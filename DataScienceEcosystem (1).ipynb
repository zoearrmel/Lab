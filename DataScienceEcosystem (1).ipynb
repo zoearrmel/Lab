{
  "metadata": {
    "kernelspec": {
      "name": "python",
      "display_name": "Python (Pyodide)",
      "language": "python"
    },
    "language_info": {
      "codemirror_mode": {
        "name": "python",
        "version": 3
      },
      "file_extension": ".py",
      "mimetype": "text/x-python",
      "name": "python",
      "nbconvert_exporter": "python",
      "pygments_lexer": "ipython3",
      "version": "3.8"
    }
  },
  "nbformat_minor": 5,
  "nbformat": 4,
  "cells": [
    {
      "id": "eb19ccd1-cce5-409d-9359-c8318881e540",
      "cell_type": "markdown",
      "source": "# Data Science Tools and Ecosytem",
      "metadata": {}
    },
    {
      "id": "85f14ed0-89e0-4f36-9eee-f614ce0ad268",
      "cell_type": "markdown",
      "source": "***In this notebook, Data Science Tools and Ecosystem are summarized.***",
      "metadata": {}
    },
    {
      "id": "86b8c6ce-8b10-4866-b4ee-f969f9f977ff",
      "cell_type": "markdown",
      "source": "Some of the popular languages that Data Scientists use are:\n1. Python\n2. R\n3. SQL",
      "metadata": {}
    },
    {
      "id": "de0c9683-20e1-437f-a74f-460b9dac274c",
      "cell_type": "markdown",
      "source": "Some of the commonly used libraries used by Data Scientists include:\n1. Pandas\n2. NumPy\n3. SciPy\n",
      "metadata": {}
    },
    {
      "id": "2897defb-3958-48c7-9633-229fed18617a",
      "cell_type": "markdown",
      "source": "| Data Science Tools |\n| ----------------- |\n| R Studio |\n| Microsoft Visual Studio |\n| Anaconda |",
      "metadata": {}
    },
    {
      "id": "519c450f-ff6c-4af7-8334-793dc3b33a45",
      "cell_type": "markdown",
      "source": "### Below are a few examples of evaluating arithmetic expressions in Python",
      "metadata": {}
    },
    {
      "id": "b05ff3ea-803c-4930-a034-637eb34f8ed5",
      "cell_type": "code",
      "source": "print(\"This a simple arithmetic expression to mutiply then add integers\")\n(3*4)+5\n",
      "metadata": {
        "trusted": true
      },
      "outputs": [
        {
          "name": "stdout",
          "output_type": "stream",
          "text": "This a simple arithmetic expression to mutiply then add integers\n"
        },
        {
          "execution_count": 4,
          "output_type": "execute_result",
          "data": {
            "text/plain": "17"
          },
          "metadata": {}
        }
      ],
      "execution_count": 4
    },
    {
      "id": "67869554-2e6a-40ba-b551-9d65abb32a48",
      "cell_type": "code",
      "source": "print(\"This will convert 200 minutes to hours by diving by 60\")\n200/60",
      "metadata": {
        "trusted": true
      },
      "outputs": [
        {
          "name": "stdout",
          "output_type": "stream",
          "text": "This will convert 200 minutes to hours by diving by 60\n"
        },
        {
          "execution_count": 5,
          "output_type": "execute_result",
          "data": {
            "text/plain": "3.3333333333333335"
          },
          "metadata": {}
        }
      ],
      "execution_count": 5
    },
    {
      "id": "abd12dda-7ee7-4a0b-85b7-89d9cff7fe1d",
      "cell_type": "markdown",
      "source": "**Objectives**\n* Scala\n* Julia\n* C++",
      "metadata": {}
    },
    {
      "id": "0b0d2af6-f3b8-4942-a916-13b81a45547f",
      "cell_type": "markdown",
      "source": "## Author \nEvelin Arroyo",
      "metadata": {}
    },
    {
      "id": "861c1b87-b73c-47d6-b8f4-0c56493320cf",
      "cell_type": "code",
      "source": "",
      "metadata": {
        "trusted": true
      },
      "outputs": [],
      "execution_count": null
    }
  ]
}